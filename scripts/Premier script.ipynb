{
 "cells": [
  {
   "cell_type": "markdown",
   "id": "a39c841a",
   "metadata": {},
   "source": [
    "# Ceci est mon premier script"
   ]
  },
  {
   "cell_type": "markdown",
   "id": "19c81beb",
   "metadata": {},
   "source": [
    "Les raccourcis :\n",
    "\n",
    "- ctrl + entrer pour exécuter\n",
    "- b pour créer une cellule\n",
    "- dd pour en supprimer"
   ]
  },
  {
   "cell_type": "markdown",
   "id": "1ad94a7d",
   "metadata": {},
   "source": [
    "Je vais copier coller le script du dépôt"
   ]
  },
  {
   "cell_type": "code",
   "execution_count": 65,
   "id": "7a64d877",
   "metadata": {},
   "outputs": [
    {
     "name": "stdout",
     "output_type": "stream",
     "text": [
      "Écrivez une phrase: ceci est un mot Python\n",
      "Il y a 5 mots\n",
      "Il y a 0 fois le mot Rstat\n"
     ]
    }
   ],
   "source": [
    "compteur = 0 #je définis un compteur à 0\n",
    "mot_recherche = \"python\" #je crée un objet qui est le mot à rechercher\n",
    "phrase = input(\"Écrivez une phrase: \") #je demande une entrée clavier à l'utilisateur\n",
    "phrase_min = phrase.lower() # mettre la phrase en minuscule\n",
    "liste_mots = phrase_min.split(\" \") # on coupe la phrase aux espaces\n",
    "nombre_mots = len(liste_mots) # nombre d'éléments de la liste\n",
    "print(\"Il y a %d mots\" % nombre_mots) # afficher sur l'écran\n",
    "for mot in liste_mots: # pour chaque élément dans la liste\n",
    "    if mot == mot_recherche: # si l'élément vaut quelque chose\n",
    "        compteur = compteur + 1 # augmente de 1 la valeur du compteur\n",
    "print(\"Il y a %d fois le mot Python\" % compteur) # afficher le résultat"
   ]
  },
  {
   "cell_type": "markdown",
   "id": "ce39ff24",
   "metadata": {},
   "source": [
    "## Première ligne"
   ]
  },
  {
   "cell_type": "markdown",
   "id": "154f73e4",
   "metadata": {},
   "source": [
    "On crée un nouvel objet qui s'appelle compteur et on donne une valeur (0) avec le signe =.\n",
    "\n",
    "Par conséquent ce nouvel objet est de type \"entier\""
   ]
  },
  {
   "cell_type": "code",
   "execution_count": 4,
   "id": "02c40cab",
   "metadata": {},
   "outputs": [],
   "source": [
    "compteur = 0"
   ]
  },
  {
   "cell_type": "code",
   "execution_count": 6,
   "id": "c97c8283",
   "metadata": {},
   "outputs": [
    {
     "data": {
      "text/plain": [
       "10"
      ]
     },
     "execution_count": 6,
     "metadata": {},
     "output_type": "execute_result"
    }
   ],
   "source": [
    "compteur + 10"
   ]
  },
  {
   "cell_type": "code",
   "execution_count": 7,
   "id": "e0bf5bf2",
   "metadata": {},
   "outputs": [],
   "source": [
    "ceci_est_un_nombre = 102"
   ]
  },
  {
   "cell_type": "code",
   "execution_count": 9,
   "id": "ac768bd9",
   "metadata": {},
   "outputs": [
    {
     "ename": "NameError",
     "evalue": "name 'comteur' is not defined",
     "output_type": "error",
     "traceback": [
      "\u001b[0;31m---------------------------------------------------------------------------\u001b[0m",
      "\u001b[0;31mNameError\u001b[0m                                 Traceback (most recent call last)",
      "Input \u001b[0;32mIn [9]\u001b[0m, in \u001b[0;36m<cell line: 1>\u001b[0;34m()\u001b[0m\n\u001b[0;32m----> 1\u001b[0m \u001b[43mcomteur\u001b[49m\n",
      "\u001b[0;31mNameError\u001b[0m: name 'comteur' is not defined"
     ]
    }
   ],
   "source": [
    "comteur"
   ]
  },
  {
   "cell_type": "markdown",
   "id": "506a8795",
   "metadata": {},
   "source": [
    "## Deuxième ligne"
   ]
  },
  {
   "cell_type": "code",
   "execution_count": 10,
   "id": "30e9339c",
   "metadata": {},
   "outputs": [],
   "source": [
    "mot_recherche = \"python\""
   ]
  },
  {
   "cell_type": "code",
   "execution_count": 11,
   "id": "fcd7b15d",
   "metadata": {},
   "outputs": [
    {
     "data": {
      "text/plain": [
       "'python'"
      ]
     },
     "execution_count": 11,
     "metadata": {},
     "output_type": "execute_result"
    }
   ],
   "source": [
    "mot_recherche"
   ]
  },
  {
   "cell_type": "markdown",
   "id": "77a54208",
   "metadata": {},
   "source": [
    "## Troisième ligne"
   ]
  },
  {
   "cell_type": "markdown",
   "id": "f2ff5042",
   "metadata": {},
   "source": [
    "Deux étapes"
   ]
  },
  {
   "cell_type": "code",
   "execution_count": 19,
   "id": "19277cc1",
   "metadata": {},
   "outputs": [
    {
     "name": "stdout",
     "output_type": "stream",
     "text": [
      "Écrivez une phrase: Ceci est ma phrase\n"
     ]
    }
   ],
   "source": [
    "phrase = input(\"Écrivez une phrase: \")"
   ]
  },
  {
   "cell_type": "code",
   "execution_count": 20,
   "id": "324f156c",
   "metadata": {},
   "outputs": [
    {
     "data": {
      "text/plain": [
       "'Ceci est ma phrase'"
      ]
     },
     "execution_count": 20,
     "metadata": {},
     "output_type": "execute_result"
    }
   ],
   "source": [
    "phrase"
   ]
  },
  {
   "cell_type": "markdown",
   "id": "e4792a49",
   "metadata": {},
   "source": [
    "On demande une phrase"
   ]
  },
  {
   "cell_type": "code",
   "execution_count": 13,
   "id": "eca2cbca",
   "metadata": {},
   "outputs": [
    {
     "name": "stdout",
     "output_type": "stream",
     "text": [
      "Écrivezblablbla\n"
     ]
    },
    {
     "data": {
      "text/plain": [
       "'blablbla'"
      ]
     },
     "execution_count": 13,
     "metadata": {},
     "output_type": "execute_result"
    }
   ],
   "source": [
    "input(\"Écrivez\")"
   ]
  },
  {
   "cell_type": "markdown",
   "id": "236eb188",
   "metadata": {},
   "source": [
    "On utilise la méthode \"input\""
   ]
  },
  {
   "cell_type": "code",
   "execution_count": 14,
   "id": "8f86c456",
   "metadata": {},
   "outputs": [
    {
     "data": {
      "text/plain": [
       "<bound method Kernel.raw_input of <ipykernel.ipkernel.IPythonKernel object at 0x7f82bbe30490>>"
      ]
     },
     "execution_count": 14,
     "metadata": {},
     "output_type": "execute_result"
    }
   ],
   "source": [
    "input"
   ]
  },
  {
   "cell_type": "code",
   "execution_count": 18,
   "id": "68d200e0",
   "metadata": {},
   "outputs": [
    {
     "name": "stdout",
     "output_type": "stream",
     "text": [
      "Ced\n"
     ]
    },
    {
     "data": {
      "text/plain": [
       "'Ced'"
      ]
     },
     "execution_count": 18,
     "metadata": {},
     "output_type": "execute_result"
    }
   ],
   "source": [
    "input()"
   ]
  },
  {
   "cell_type": "markdown",
   "id": "d3575dc0",
   "metadata": {},
   "source": [
    "## Quatrième ligne"
   ]
  },
  {
   "cell_type": "code",
   "execution_count": 22,
   "id": "7601ff0e",
   "metadata": {},
   "outputs": [
    {
     "data": {
      "text/plain": [
       "str"
      ]
     },
     "execution_count": 22,
     "metadata": {},
     "output_type": "execute_result"
    }
   ],
   "source": [
    "type(phrase)"
   ]
  },
  {
   "cell_type": "code",
   "execution_count": 25,
   "id": "aac83ddb",
   "metadata": {},
   "outputs": [
    {
     "data": {
      "text/plain": [
       "'ceci est ma phrase'"
      ]
     },
     "execution_count": 25,
     "metadata": {},
     "output_type": "execute_result"
    }
   ],
   "source": [
    "phrase.lower()"
   ]
  },
  {
   "cell_type": "code",
   "execution_count": 27,
   "id": "35b42032",
   "metadata": {},
   "outputs": [
    {
     "data": {
      "text/plain": [
       "'bouh'"
      ]
     },
     "execution_count": 27,
     "metadata": {},
     "output_type": "execute_result"
    }
   ],
   "source": [
    "\"BOUH\".lower()"
   ]
  },
  {
   "cell_type": "markdown",
   "id": "dd8edc8f",
   "metadata": {},
   "source": [
    "### Cinquième ligne"
   ]
  },
  {
   "cell_type": "markdown",
   "id": "c5824703",
   "metadata": {},
   "source": [
    "On coupe la phrase avec la méthode split"
   ]
  },
  {
   "cell_type": "code",
   "execution_count": 34,
   "id": "38f59447",
   "metadata": {},
   "outputs": [
    {
     "data": {
      "text/plain": [
       "['ceci', 'est', 'ma', 'phrase', 'qui', 'contient', 'python']"
      ]
     },
     "execution_count": 34,
     "metadata": {},
     "output_type": "execute_result"
    }
   ],
   "source": [
    "liste_mots = phrase_min.split(\" \")"
   ]
  },
  {
   "cell_type": "code",
   "execution_count": 35,
   "id": "a4e38fba",
   "metadata": {},
   "outputs": [
    {
     "data": {
      "text/plain": [
       "<function str.split(sep=None, maxsplit=-1)>"
      ]
     },
     "execution_count": 35,
     "metadata": {},
     "output_type": "execute_result"
    }
   ],
   "source": [
    "phrase_min.split"
   ]
  },
  {
   "cell_type": "code",
   "execution_count": 39,
   "id": "54beea61",
   "metadata": {},
   "outputs": [
    {
     "data": {
      "text/plain": [
       "list"
      ]
     },
     "execution_count": 39,
     "metadata": {},
     "output_type": "execute_result"
    }
   ],
   "source": [
    "type(liste_mots)"
   ]
  },
  {
   "cell_type": "code",
   "execution_count": 40,
   "id": "2ce64093",
   "metadata": {},
   "outputs": [
    {
     "data": {
      "text/plain": [
       "'je'"
      ]
     },
     "execution_count": 40,
     "metadata": {},
     "output_type": "execute_result"
    }
   ],
   "source": [
    "liste_mots[0]"
   ]
  },
  {
   "cell_type": "code",
   "execution_count": 41,
   "id": "ae0346d9",
   "metadata": {},
   "outputs": [
    {
     "data": {
      "text/plain": [
       "'remets'"
      ]
     },
     "execution_count": 41,
     "metadata": {},
     "output_type": "execute_result"
    }
   ],
   "source": [
    "liste_mots[1]"
   ]
  },
  {
   "cell_type": "markdown",
   "id": "c1feaaa4",
   "metadata": {},
   "source": [
    "Le rang d'une liste commence à 0"
   ]
  },
  {
   "cell_type": "code",
   "execution_count": 42,
   "id": "e87acbce",
   "metadata": {},
   "outputs": [
    {
     "data": {
      "text/plain": [
       "4"
      ]
     },
     "execution_count": 42,
     "metadata": {},
     "output_type": "execute_result"
    }
   ],
   "source": [
    "len(liste_mots)"
   ]
  },
  {
   "cell_type": "code",
   "execution_count": 43,
   "id": "a9787b65",
   "metadata": {},
   "outputs": [
    {
     "data": {
      "text/plain": [
       "6"
      ]
     },
     "execution_count": 43,
     "metadata": {},
     "output_type": "execute_result"
    }
   ],
   "source": [
    "len(\"Phrase\")"
   ]
  },
  {
   "cell_type": "code",
   "execution_count": 45,
   "id": "ca29deb5",
   "metadata": {},
   "outputs": [],
   "source": [
    "len?"
   ]
  },
  {
   "cell_type": "markdown",
   "id": "0d3b91ae",
   "metadata": {},
   "source": [
    "### Ligne 7"
   ]
  },
  {
   "cell_type": "code",
   "execution_count": 48,
   "id": "a7cadeb4",
   "metadata": {},
   "outputs": [
    {
     "name": "stdout",
     "output_type": "stream",
     "text": [
      "Il y a 4 mots\n"
     ]
    }
   ],
   "source": [
    "print(\"Il y a %d mots\" % nombre_mots)"
   ]
  },
  {
   "cell_type": "code",
   "execution_count": 49,
   "id": "4a048d9f",
   "metadata": {},
   "outputs": [
    {
     "name": "stdout",
     "output_type": "stream",
     "text": [
      "Il y a 4 mots\n"
     ]
    }
   ],
   "source": [
    "print(f\"Il y a {nombre_mots} mots\")"
   ]
  },
  {
   "cell_type": "markdown",
   "id": "19cedca4",
   "metadata": {},
   "source": [
    "Boucle for"
   ]
  },
  {
   "cell_type": "code",
   "execution_count": 54,
   "id": "297d80d6",
   "metadata": {},
   "outputs": [
    {
     "name": "stdout",
     "output_type": "stream",
     "text": [
      "a\n",
      "coucou\n",
      "b\n",
      "coucou\n",
      "1\n",
      "coucou\n",
      "5\n",
      "coucou\n",
      "fin\n"
     ]
    }
   ],
   "source": [
    "for e in [\"a\",\"b\",1,5]:\n",
    "    print(e)\n",
    "    print(\"coucou\")\n",
    "print(\"fin\")"
   ]
  },
  {
   "cell_type": "markdown",
   "id": "256b5df9",
   "metadata": {},
   "source": [
    "Un bloc en python c'est \":\" puis 4 espaces tant qu'on est dans le bloc"
   ]
  },
  {
   "cell_type": "markdown",
   "id": "ed3a5b09",
   "metadata": {},
   "source": [
    "## La condition"
   ]
  },
  {
   "cell_type": "code",
   "execution_count": 58,
   "id": "52a32f34",
   "metadata": {},
   "outputs": [
    {
     "name": "stdout",
     "output_type": "stream",
     "text": [
      "Condition vraie\n"
     ]
    }
   ],
   "source": [
    "condition = True\n",
    "if condition:\n",
    "    print(\"Condition vraie\")\n",
    "else:\n",
    "    print(\"Condition fausse\")"
   ]
  },
  {
   "cell_type": "code",
   "execution_count": 61,
   "id": "411ddd72",
   "metadata": {},
   "outputs": [
    {
     "data": {
      "text/plain": [
       "['je', 'remets', 'une', 'phrase']"
      ]
     },
     "execution_count": 61,
     "metadata": {},
     "output_type": "execute_result"
    }
   ],
   "source": [
    "liste_mots"
   ]
  },
  {
   "cell_type": "code",
   "execution_count": 64,
   "id": "da006487",
   "metadata": {},
   "outputs": [
    {
     "name": "stdout",
     "output_type": "stream",
     "text": [
      "je\n",
      "remets\n",
      "une\n",
      "phrase\n"
     ]
    },
    {
     "data": {
      "text/plain": [
       "'phrase'"
      ]
     },
     "execution_count": 64,
     "metadata": {},
     "output_type": "execute_result"
    }
   ],
   "source": [
    "for e in liste_mots:\n",
    "    print(e)\n",
    "e"
   ]
  },
  {
   "cell_type": "markdown",
   "id": "81b087eb",
   "metadata": {},
   "source": [
    "Comprimons le script"
   ]
  },
  {
   "cell_type": "code",
   "execution_count": 67,
   "id": "ff226b94",
   "metadata": {},
   "outputs": [
    {
     "name": "stdout",
     "output_type": "stream",
     "text": [
      "Python python python\n"
     ]
    },
    {
     "data": {
      "text/plain": [
       "3"
      ]
     },
     "execution_count": 67,
     "metadata": {},
     "output_type": "execute_result"
    }
   ],
   "source": [
    "len([mot for mot in input().lower().split(\" \") if mot==\"python\"])"
   ]
  },
  {
   "cell_type": "markdown",
   "id": "f74d147a",
   "metadata": {},
   "source": [
    "## Lire un fichier qui est sur l'ordinateur"
   ]
  },
  {
   "cell_type": "code",
   "execution_count": 71,
   "id": "6a864cbc",
   "metadata": {},
   "outputs": [],
   "source": [
    "with open(\"./entretien Guido von Rossum.txt\",\"r\") as fichier:\n",
    "    texte = fichier.read()"
   ]
  },
  {
   "cell_type": "markdown",
   "id": "b0653162",
   "metadata": {},
   "source": [
    "- open pour ouvrir\n",
    "- \"r\" pour le mode lecture\n",
    "- with c'est un bloc de contexte qui gère la fermeture\n",
    "- la méthode read permet de lire le contenu"
   ]
  },
  {
   "cell_type": "code",
   "execution_count": 76,
   "id": "ffcf443b",
   "metadata": {},
   "outputs": [],
   "source": [
    "#texte.lower().split(\" \")"
   ]
  },
  {
   "cell_type": "markdown",
   "id": "8ec90293",
   "metadata": {},
   "source": [
    "## Lire docx"
   ]
  },
  {
   "cell_type": "code",
   "execution_count": 77,
   "id": "568d0386",
   "metadata": {
    "scrolled": true
   },
   "outputs": [
    {
     "name": "stdout",
     "output_type": "stream",
     "text": [
      "\u001b[33mWARNING: Ignoring invalid distribution -upyter-core (/home/emilien/anaconda3/lib/python3.9/site-packages)\u001b[0m\n",
      "\u001b[33mWARNING: Ignoring invalid distribution -upyter-core (/home/emilien/anaconda3/lib/python3.9/site-packages)\u001b[0m\n",
      "Requirement already satisfied: python-docx in /home/emilien/anaconda3/lib/python3.9/site-packages (0.8.11)\n",
      "Requirement already satisfied: lxml>=2.3.2 in /home/emilien/anaconda3/lib/python3.9/site-packages (from python-docx) (4.8.0)\n",
      "\u001b[33mWARNING: Ignoring invalid distribution -upyter-core (/home/emilien/anaconda3/lib/python3.9/site-packages)\u001b[0m\n",
      "\u001b[33mWARNING: Ignoring invalid distribution -upyter-core (/home/emilien/anaconda3/lib/python3.9/site-packages)\u001b[0m\n",
      "\u001b[33mWARNING: Ignoring invalid distribution -upyter-core (/home/emilien/anaconda3/lib/python3.9/site-packages)\u001b[0m\n",
      "\u001b[33mWARNING: Ignoring invalid distribution -upyter-core (/home/emilien/anaconda3/lib/python3.9/site-packages)\u001b[0m\n",
      "Note: you may need to restart the kernel to use updated packages.\n"
     ]
    }
   ],
   "source": [
    "pip install python-docx"
   ]
  },
  {
   "cell_type": "markdown",
   "id": "93fe1abf",
   "metadata": {},
   "source": [
    "### Lire un fichier docx"
   ]
  },
  {
   "cell_type": "code",
   "execution_count": 78,
   "id": "e6ab4280",
   "metadata": {},
   "outputs": [],
   "source": [
    "import docx"
   ]
  },
  {
   "cell_type": "code",
   "execution_count": 80,
   "id": "c972a352",
   "metadata": {},
   "outputs": [],
   "source": [
    "document = docx.Document(\"./entretien Guido von Rossum.docx\")"
   ]
  },
  {
   "cell_type": "code",
   "execution_count": 85,
   "id": "dc14ec12",
   "metadata": {},
   "outputs": [],
   "source": [
    "texte = [p.text for p in document.paragraphs]"
   ]
  }
 ],
 "metadata": {
  "kernelspec": {
   "display_name": "Python 3 (ipykernel)",
   "language": "python",
   "name": "python3"
  },
  "language_info": {
   "codemirror_mode": {
    "name": "ipython",
    "version": 3
   },
   "file_extension": ".py",
   "mimetype": "text/x-python",
   "name": "python",
   "nbconvert_exporter": "python",
   "pygments_lexer": "ipython3",
   "version": "3.9.12"
  }
 },
 "nbformat": 4,
 "nbformat_minor": 5
}
