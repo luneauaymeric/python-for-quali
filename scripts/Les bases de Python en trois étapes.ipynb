{
 "cells": [
  {
   "cell_type": "markdown",
   "id": "93de190b",
   "metadata": {},
   "source": [
    "# Script didactique"
   ]
  },
  {
   "cell_type": "markdown",
   "id": "cd2e48df",
   "metadata": {},
   "source": [
    "- Objectif général : aborder le traitement de données textuelles\n",
    "\n",
    "1. Faire exécuter\n",
    "2. Avoir une idée de la grammaire générale (pas les détails)\n",
    "3. Aspect constructiviste : comment on construit un script\n",
    "4. Aspect utile/pratique : créer ses outils\n",
    "5. Utiliser les outils existants (SpaCy / Whisper)\n"
   ]
  },
  {
   "cell_type": "markdown",
   "id": "2555dbb5",
   "metadata": {},
   "source": [
    "## Niveau 1 : présence de Python dans un texte"
   ]
  },
  {
   "cell_type": "code",
   "execution_count": 1,
   "id": "36ca3a70",
   "metadata": {},
   "outputs": [
    {
     "name": "stdout",
     "output_type": "stream",
     "text": [
      "Écrivez une phrase: Ceci est une possibilité\n",
      "Il y a 4 mots\n",
      "Il y a 0 fois le mot Python\n"
     ]
    }
   ],
   "source": [
    "compteur = 0\n",
    "mot_recherche = \"python\"\n",
    "phrase = input(\"Écrivez une phrase: \")\n",
    "phrase_min = phrase.lower()\n",
    "liste_mots = phrase_min.split(\" \")\n",
    "nombre_mots = len(liste_mots)\n",
    "print(\"Il y a %d mots\" % nombre_mots)\n",
    "for mot in liste_mots:\n",
    "    if mot == mot_recherche:\n",
    "        compteur = compteur + 1\n",
    "print(\"Il y a %d fois le mot Python\"%compteur)"
   ]
  },
  {
   "cell_type": "markdown",
   "id": "041e80d5",
   "metadata": {},
   "source": [
    "## Niveau 2 : extraction de phrase\n",
    "\n",
    "- lire le contenu d'un texte (entrées/sorties)\n",
    "- récupérer le \"contexte\" d'un mot : phrase / pourtour du mot"
   ]
  },
  {
   "cell_type": "code",
   "execution_count": 8,
   "id": "dac1267a",
   "metadata": {},
   "outputs": [
    {
     "name": "stdout",
     "output_type": "stream",
     "text": [
      "Longueur du texte  2347\n",
      "Occurence de Python  48\n"
     ]
    }
   ],
   "source": [
    "with open(\"./entretien Guido von Rossum.txt\",\"r\") as f:\n",
    "    texte = f.read()\n",
    "    \n",
    "print(\"Longueur du texte \",len(texte.split()))\n",
    "print(\"Occurence de Python \", texte.lower().count(\"python\"))\n",
    "        \n",
    "# Application : écrire le résutlat dans un fichier"
   ]
  },
  {
   "cell_type": "markdown",
   "id": "981f0f18",
   "metadata": {},
   "source": [
    "## Niveau 3 : regex\n",
    "\n",
    "on veut coder les avis sur python avec une balise <avis> </avis> inspirée du xml.\n",
    "\n",
    "- On utilise une fonction : petit tout de ce qu'est une fonction\n",
    "- On veut créer un outil facile à utiliser : on fait notre fonction\n"
   ]
  },
  {
   "cell_type": "code",
   "execution_count": 3,
   "id": "04606783",
   "metadata": {},
   "outputs": [],
   "source": [
    "import re"
   ]
  },
  {
   "cell_type": "code",
   "execution_count": 6,
   "id": "8360532d",
   "metadata": {},
   "outputs": [
    {
     "data": {
      "text/plain": [
       "['test']"
      ]
     },
     "execution_count": 6,
     "metadata": {},
     "output_type": "execute_result"
    }
   ],
   "source": [
    "texte = \"Ceci est une phrase de <avis>test</avis> entre nous\"\n",
    "re.findall(\"<avis>(.*?)</avis>\",texte)"
   ]
  },
  {
   "cell_type": "markdown",
   "id": "7a216a9b",
   "metadata": {},
   "source": [
    "On crée une fonction"
   ]
  },
  {
   "cell_type": "code",
   "execution_count": 4,
   "id": "8740e526",
   "metadata": {},
   "outputs": [],
   "source": [
    "def recup_avis(texte):\n",
    "    return re.findall(\"<avis>(.*?)</avis>\",texte)"
   ]
  },
  {
   "cell_type": "code",
   "execution_count": 5,
   "id": "2dab1bcd",
   "metadata": {},
   "outputs": [
    {
     "data": {
      "text/plain": [
       "[\" je ne suis pas d'accord\"]"
      ]
     },
     "execution_count": 5,
     "metadata": {},
     "output_type": "execute_result"
    }
   ],
   "source": [
    "recup_avis(\"ceci est un texte et <avis> je ne suis pas d'accord</avis>\")"
   ]
  },
  {
   "cell_type": "markdown",
   "id": "798a3039",
   "metadata": {},
   "source": [
    "Et on peut l'appliquer sur notre corpus"
   ]
  },
  {
   "cell_type": "code",
   "execution_count": 9,
   "id": "dd6d3b88",
   "metadata": {},
   "outputs": [
    {
     "data": {
      "text/plain": [
       "['\"resistance is futile -- you will be assimimated.\"']"
      ]
     },
     "execution_count": 9,
     "metadata": {},
     "output_type": "execute_result"
    }
   ],
   "source": [
    "with open(\"./entretien Guido von Rossum.txt\",\"r\") as f:\n",
    "    texte = f.read()\n",
    "recup_avis(texte)"
   ]
  },
  {
   "cell_type": "markdown",
   "id": "82f733c2",
   "metadata": {},
   "source": [
    "Et maintenant on peut l'écrire dans un document"
   ]
  },
  {
   "cell_type": "markdown",
   "id": "09ea5f34",
   "metadata": {},
   "source": [
    "Et si on veut travailler dans un document docx ? "
   ]
  },
  {
   "cell_type": "code",
   "execution_count": 3,
   "id": "9024f55c",
   "metadata": {},
   "outputs": [],
   "source": [
    "#pip install python-docx"
   ]
  },
  {
   "cell_type": "code",
   "execution_count": 3,
   "id": "c613a014",
   "metadata": {},
   "outputs": [],
   "source": [
    "import docx\n",
    "\n",
    "doc = docx.Document(\"./entretien Guido von Rossum.docx\")\n",
    "texte = \"\\n\".join([t.text for t in doc.paragraphs])\n"
   ]
  }
 ],
 "metadata": {
  "kernelspec": {
   "display_name": "Python 3 (ipykernel)",
   "language": "python",
   "name": "python3"
  },
  "language_info": {
   "codemirror_mode": {
    "name": "ipython",
    "version": 3
   },
   "file_extension": ".py",
   "mimetype": "text/x-python",
   "name": "python",
   "nbconvert_exporter": "python",
   "pygments_lexer": "ipython3",
   "version": "3.9.12"
  }
 },
 "nbformat": 4,
 "nbformat_minor": 5
}
