{
 "cells": [
  {
   "cell_type": "markdown",
   "id": "a5eab461",
   "metadata": {},
   "source": [
    "# Whisper"
   ]
  },
  {
   "cell_type": "markdown",
   "id": "c91906f6",
   "metadata": {},
   "source": [
    "De nombreux tutoriaux qui fleurissent :\n",
    "\n",
    "- https://www.css.cnrs.fr/whisper-pour-retranscrire-des-entretiens/\n",
    "- https://analyzingalpha.com/openai-whisper-python-tutorial\n",
    "\n",
    "Intérêt ? \n",
    "\n",
    "- utiliser un modèle\n",
    "- le faire en local"
   ]
  },
  {
   "cell_type": "markdown",
   "id": "2652ba60",
   "metadata": {},
   "source": [
    "## Un coup d'oeil sur ce qu'est whisper"
   ]
  },
  {
   "cell_type": "markdown",
   "id": "b742f79f",
   "metadata": {},
   "source": [
    "https://github.com/openai/whisper"
   ]
  },
  {
   "cell_type": "markdown",
   "id": "231f69b5",
   "metadata": {},
   "source": [
    "## Installer la bibliothèque Python\n",
    "\n",
    "décommenter la ligne pour installer"
   ]
  },
  {
   "cell_type": "code",
   "execution_count": 2,
   "id": "d63995f1",
   "metadata": {},
   "outputs": [],
   "source": [
    "#pip install openai-whisper"
   ]
  },
  {
   "cell_type": "markdown",
   "id": "ab15285b",
   "metadata": {},
   "source": [
    "## Charger un modèle"
   ]
  },
  {
   "cell_type": "code",
   "execution_count": 3,
   "id": "528637b5",
   "metadata": {
    "scrolled": true
   },
   "outputs": [
    {
     "name": "stderr",
     "output_type": "stream",
     "text": [
      "100%|█████████████████████████████████████| 72.1M/72.1M [00:24<00:00, 3.05MiB/s]\n"
     ]
    }
   ],
   "source": [
    "import whisper\n",
    "model1 = whisper.load_model(\"tiny\")\n",
    "#model2 = whisper.load_model(\"medium\")"
   ]
  },
  {
   "cell_type": "markdown",
   "id": "849a1748",
   "metadata": {},
   "source": [
    "C'est un objet de type whisper"
   ]
  },
  {
   "cell_type": "code",
   "execution_count": 5,
   "id": "4af3a33e",
   "metadata": {},
   "outputs": [
    {
     "data": {
      "text/plain": [
       "whisper.model.Whisper"
      ]
     },
     "execution_count": 5,
     "metadata": {},
     "output_type": "execute_result"
    }
   ],
   "source": [
    "type(model1)"
   ]
  },
  {
   "cell_type": "code",
   "execution_count": 6,
   "id": "5f5d11ce",
   "metadata": {},
   "outputs": [
    {
     "data": {
      "text/plain": [
       "Whisper(\n",
       "  (encoder): AudioEncoder(\n",
       "    (conv1): Conv1d(80, 384, kernel_size=(3,), stride=(1,), padding=(1,))\n",
       "    (conv2): Conv1d(384, 384, kernel_size=(3,), stride=(2,), padding=(1,))\n",
       "    (blocks): ModuleList(\n",
       "      (0-3): 4 x ResidualAttentionBlock(\n",
       "        (attn): MultiHeadAttention(\n",
       "          (query): Linear(in_features=384, out_features=384, bias=True)\n",
       "          (key): Linear(in_features=384, out_features=384, bias=False)\n",
       "          (value): Linear(in_features=384, out_features=384, bias=True)\n",
       "          (out): Linear(in_features=384, out_features=384, bias=True)\n",
       "        )\n",
       "        (attn_ln): LayerNorm((384,), eps=1e-05, elementwise_affine=True)\n",
       "        (mlp): Sequential(\n",
       "          (0): Linear(in_features=384, out_features=1536, bias=True)\n",
       "          (1): GELU(approximate='none')\n",
       "          (2): Linear(in_features=1536, out_features=384, bias=True)\n",
       "        )\n",
       "        (mlp_ln): LayerNorm((384,), eps=1e-05, elementwise_affine=True)\n",
       "      )\n",
       "    )\n",
       "    (ln_post): LayerNorm((384,), eps=1e-05, elementwise_affine=True)\n",
       "  )\n",
       "  (decoder): TextDecoder(\n",
       "    (token_embedding): Embedding(51865, 384)\n",
       "    (blocks): ModuleList(\n",
       "      (0-3): 4 x ResidualAttentionBlock(\n",
       "        (attn): MultiHeadAttention(\n",
       "          (query): Linear(in_features=384, out_features=384, bias=True)\n",
       "          (key): Linear(in_features=384, out_features=384, bias=False)\n",
       "          (value): Linear(in_features=384, out_features=384, bias=True)\n",
       "          (out): Linear(in_features=384, out_features=384, bias=True)\n",
       "        )\n",
       "        (attn_ln): LayerNorm((384,), eps=1e-05, elementwise_affine=True)\n",
       "        (cross_attn): MultiHeadAttention(\n",
       "          (query): Linear(in_features=384, out_features=384, bias=True)\n",
       "          (key): Linear(in_features=384, out_features=384, bias=False)\n",
       "          (value): Linear(in_features=384, out_features=384, bias=True)\n",
       "          (out): Linear(in_features=384, out_features=384, bias=True)\n",
       "        )\n",
       "        (cross_attn_ln): LayerNorm((384,), eps=1e-05, elementwise_affine=True)\n",
       "        (mlp): Sequential(\n",
       "          (0): Linear(in_features=384, out_features=1536, bias=True)\n",
       "          (1): GELU(approximate='none')\n",
       "          (2): Linear(in_features=1536, out_features=384, bias=True)\n",
       "        )\n",
       "        (mlp_ln): LayerNorm((384,), eps=1e-05, elementwise_affine=True)\n",
       "      )\n",
       "    )\n",
       "    (ln): LayerNorm((384,), eps=1e-05, elementwise_affine=True)\n",
       "  )\n",
       ")"
      ]
     },
     "execution_count": 6,
     "metadata": {},
     "output_type": "execute_result"
    }
   ],
   "source": [
    "model1"
   ]
  },
  {
   "cell_type": "markdown",
   "id": "fd30ec93",
   "metadata": {},
   "source": [
    "## Modifier ses mp3\n",
    "\n",
    "Créer un extrait de 30 s"
   ]
  },
  {
   "cell_type": "code",
   "execution_count": 8,
   "id": "f77bd0f9",
   "metadata": {},
   "outputs": [],
   "source": [
    "#pip install pydub"
   ]
  },
  {
   "cell_type": "code",
   "execution_count": 11,
   "id": "7ea4cb5b",
   "metadata": {},
   "outputs": [],
   "source": [
    "#from pydub import AudioSegment\n",
    "import pydub"
   ]
  },
  {
   "cell_type": "code",
   "execution_count": 12,
   "id": "d827b125",
   "metadata": {},
   "outputs": [],
   "source": [
    "itw = pydub.AudioSegment.from_mp3(\"audio_cv_i.MP3\")"
   ]
  },
  {
   "cell_type": "markdown",
   "id": "3dfa2329",
   "metadata": {},
   "source": [
    "Extraire entre la seconde 30 et la seconde 90"
   ]
  },
  {
   "cell_type": "code",
   "execution_count": 12,
   "id": "87f83f2d",
   "metadata": {},
   "outputs": [],
   "source": [
    "extract = itw[30*1000:90*1000]"
   ]
  },
  {
   "cell_type": "markdown",
   "id": "a4f3bb60",
   "metadata": {},
   "source": [
    "Ecrire sur le disque dur"
   ]
  },
  {
   "cell_type": "code",
   "execution_count": 13,
   "id": "10f92e83",
   "metadata": {},
   "outputs": [
    {
     "data": {
      "text/plain": [
       "<_io.BufferedRandom name='sample.mp3'>"
      ]
     },
     "execution_count": 13,
     "metadata": {},
     "output_type": "execute_result"
    }
   ],
   "source": [
    "AudioSegment.export(extract,\"sample.mp3\")"
   ]
  },
  {
   "cell_type": "markdown",
   "id": "9084f832",
   "metadata": {},
   "source": [
    "## Retranscrire l'extrait"
   ]
  },
  {
   "cell_type": "code",
   "execution_count": 10,
   "id": "ffd2839c",
   "metadata": {},
   "outputs": [],
   "source": [
    "# Si jamais il y a une dépendance qui manque\n",
    "#!pip install ffmpeg-python"
   ]
  },
  {
   "cell_type": "markdown",
   "id": "7008d8b1",
   "metadata": {},
   "source": [
    "Utiliser la fonction de transcription"
   ]
  },
  {
   "cell_type": "code",
   "execution_count": 13,
   "id": "23659903",
   "metadata": {},
   "outputs": [
    {
     "name": "stderr",
     "output_type": "stream",
     "text": [
      "/home/emilien/anaconda3/lib/python3.9/site-packages/whisper/transcribe.py:114: UserWarning: FP16 is not supported on CPU; using FP32 instead\n",
      "  warnings.warn(\"FP16 is not supported on CPU; using FP32 instead\")\n"
     ]
    }
   ],
   "source": [
    "result = model1.transcribe(\"sample.mp3\")"
   ]
  },
  {
   "cell_type": "code",
   "execution_count": 14,
   "id": "bcc9f12a",
   "metadata": {},
   "outputs": [
    {
     "data": {
      "text/plain": [
       "\" On les parant qui était là, elle n'est pas qu'on prie cette réalisation. Et très vite, ce sont orientés. Une fois que la maison était en cours, en fait, sur tous les problèmes de qualité de vie. Dans lesquels il y avait le social, la formation, la vie à l'hôpital. La prise en charge, etc. Pas toujours, donc je vous demande de répondre de sa part. Pas toujours avec la corps, d'ailleurs, des médecins. C'est-à-dire que on n'était pas en conflit, mais non non, c'est pas ça du tout. On n'était pas toujours. On connaît ça des plus... C'était en 1990. Et à ce moment-là, la vie d'atrice à Gustavouille-Cier, elle avait une place importante. Oui, oui, déjà. Avec elle. Voilà. Donc voilà. Et à cette même période, même quelques fois, quelques années avant, toutes les associations de parant qui vont se réunir ensuite dans les aspects, qui ont de mine de près, de quoi? Ce sont créatures de ces mêmes projets. C'est-à-dire d'abord premièrement...\""
      ]
     },
     "execution_count": 14,
     "metadata": {},
     "output_type": "execute_result"
    }
   ],
   "source": [
    "result[\"text\"]"
   ]
  },
  {
   "cell_type": "markdown",
   "id": "472ac7de",
   "metadata": {},
   "source": [
    "Essai d'un autre modèle plus précis"
   ]
  },
  {
   "cell_type": "code",
   "execution_count": 17,
   "id": "4c3e250c",
   "metadata": {},
   "outputs": [
    {
     "data": {
      "text/plain": [
       "\" Les parents qui étaient là à l'époque ont pris cette réalisation et très vite se sont orientés, une fois que la maison était en cours, sur tous les problèmes de qualité de vie dans lesquels il y avait le social, la formation, la vie à l'hôpital, donc la prise en charge, etc. Pas toujours, donc je vous demande de répondre ça partout, pas toujours avec l'accord des médecins. C'est-à-dire que c'était pas en conflit, non c'est pas ça du tout, mais on n'était pas toujours. C'était en 89, et à ce moment-là la pédiatrie à Augustin-Roussier avait une place importante ? Oui, oui, déjà. Elle avait déjà une place. Voilà, donc voilà, et dans cette même période, mais même quelques fois quelques années avant, toutes les associations de parents qui vont se réunir ensuite dans l'UNAPEC, mais en 2003, se sont créées autour de ces mêmes projets, c'est-à-dire d'abord, premièrement,\""
      ]
     },
     "execution_count": 17,
     "metadata": {},
     "output_type": "execute_result"
    }
   ],
   "source": [
    "result = model2.transcribe(\"sample.mp3\")\n",
    "result[\"text\"]"
   ]
  },
  {
   "cell_type": "markdown",
   "id": "cb962859",
   "metadata": {},
   "source": [
    "Mise sous la forme d'un tableau"
   ]
  },
  {
   "cell_type": "code",
   "execution_count": 16,
   "id": "2e2a0323",
   "metadata": {},
   "outputs": [
    {
     "data": {
      "text/html": [
       "<div>\n",
       "<style scoped>\n",
       "    .dataframe tbody tr th:only-of-type {\n",
       "        vertical-align: middle;\n",
       "    }\n",
       "\n",
       "    .dataframe tbody tr th {\n",
       "        vertical-align: top;\n",
       "    }\n",
       "\n",
       "    .dataframe thead th {\n",
       "        text-align: right;\n",
       "    }\n",
       "</style>\n",
       "<table border=\"1\" class=\"dataframe\">\n",
       "  <thead>\n",
       "    <tr style=\"text-align: right;\">\n",
       "      <th></th>\n",
       "      <th>id</th>\n",
       "      <th>seek</th>\n",
       "      <th>start</th>\n",
       "      <th>end</th>\n",
       "      <th>text</th>\n",
       "      <th>tokens</th>\n",
       "      <th>temperature</th>\n",
       "      <th>avg_logprob</th>\n",
       "      <th>compression_ratio</th>\n",
       "      <th>no_speech_prob</th>\n",
       "    </tr>\n",
       "  </thead>\n",
       "  <tbody>\n",
       "    <tr>\n",
       "      <th>0</th>\n",
       "      <td>0</td>\n",
       "      <td>0</td>\n",
       "      <td>0.00</td>\n",
       "      <td>3.98</td>\n",
       "      <td>On les parant qui était là, elle n'est pas qu...</td>\n",
       "      <td>[50364, 1282, 1512, 971, 394, 1956, 11806, 368...</td>\n",
       "      <td>0.0</td>\n",
       "      <td>-0.518136</td>\n",
       "      <td>1.580756</td>\n",
       "      <td>0.255956</td>\n",
       "    </tr>\n",
       "    <tr>\n",
       "      <th>1</th>\n",
       "      <td>1</td>\n",
       "      <td>0</td>\n",
       "      <td>3.98</td>\n",
       "      <td>5.58</td>\n",
       "      <td>Et très vite, ce sont orientés.</td>\n",
       "      <td>[50563, 3790, 5732, 24462, 11, 1769, 4900, 857...</td>\n",
       "      <td>0.0</td>\n",
       "      <td>-0.518136</td>\n",
       "      <td>1.580756</td>\n",
       "      <td>0.255956</td>\n",
       "    </tr>\n",
       "    <tr>\n",
       "      <th>2</th>\n",
       "      <td>2</td>\n",
       "      <td>0</td>\n",
       "      <td>5.58</td>\n",
       "      <td>7.48</td>\n",
       "      <td>Une fois que la maison était en cours, en fait,</td>\n",
       "      <td>[50643, 16701, 9576, 631, 635, 28511, 11806, 4...</td>\n",
       "      <td>0.0</td>\n",
       "      <td>-0.518136</td>\n",
       "      <td>1.580756</td>\n",
       "      <td>0.255956</td>\n",
       "    </tr>\n",
       "    <tr>\n",
       "      <th>3</th>\n",
       "      <td>3</td>\n",
       "      <td>0</td>\n",
       "      <td>7.48</td>\n",
       "      <td>9.88</td>\n",
       "      <td>sur tous les problèmes de qualité de vie.</td>\n",
       "      <td>[50738, 1022, 8317, 1512, 37317, 368, 42106, 3...</td>\n",
       "      <td>0.0</td>\n",
       "      <td>-0.518136</td>\n",
       "      <td>1.580756</td>\n",
       "      <td>0.255956</td>\n",
       "    </tr>\n",
       "    <tr>\n",
       "      <th>4</th>\n",
       "      <td>4</td>\n",
       "      <td>0</td>\n",
       "      <td>9.88</td>\n",
       "      <td>13.52</td>\n",
       "      <td>Dans lesquels il y avait le social,</td>\n",
       "      <td>[50858, 16897, 1512, 358, 1625, 1930, 288, 118...</td>\n",
       "      <td>0.0</td>\n",
       "      <td>-0.518136</td>\n",
       "      <td>1.580756</td>\n",
       "      <td>0.255956</td>\n",
       "    </tr>\n",
       "  </tbody>\n",
       "</table>\n",
       "</div>"
      ],
      "text/plain": [
       "   id  seek  start    end                                               text  \\\n",
       "0   0     0   0.00   3.98   On les parant qui était là, elle n'est pas qu...   \n",
       "1   1     0   3.98   5.58                    Et très vite, ce sont orientés.   \n",
       "2   2     0   5.58   7.48    Une fois que la maison était en cours, en fait,   \n",
       "3   3     0   7.48   9.88          sur tous les problèmes de qualité de vie.   \n",
       "4   4     0   9.88  13.52                Dans lesquels il y avait le social,   \n",
       "\n",
       "                                              tokens  temperature  \\\n",
       "0  [50364, 1282, 1512, 971, 394, 1956, 11806, 368...          0.0   \n",
       "1  [50563, 3790, 5732, 24462, 11, 1769, 4900, 857...          0.0   \n",
       "2  [50643, 16701, 9576, 631, 635, 28511, 11806, 4...          0.0   \n",
       "3  [50738, 1022, 8317, 1512, 37317, 368, 42106, 3...          0.0   \n",
       "4  [50858, 16897, 1512, 358, 1625, 1930, 288, 118...          0.0   \n",
       "\n",
       "   avg_logprob  compression_ratio  no_speech_prob  \n",
       "0    -0.518136           1.580756        0.255956  \n",
       "1    -0.518136           1.580756        0.255956  \n",
       "2    -0.518136           1.580756        0.255956  \n",
       "3    -0.518136           1.580756        0.255956  \n",
       "4    -0.518136           1.580756        0.255956  "
      ]
     },
     "execution_count": 16,
     "metadata": {},
     "output_type": "execute_result"
    }
   ],
   "source": [
    "import pandas as pd\n",
    "speech = pd.DataFrame.from_dict(result['segments'])\n",
    "speech.head()"
   ]
  },
  {
   "cell_type": "markdown",
   "id": "7566a47a",
   "metadata": {},
   "source": [
    "## Mise en forme et sauvegarde\n",
    "\n",
    "(inspiration Yacine Chitour) "
   ]
  },
  {
   "cell_type": "code",
   "execution_count": 17,
   "id": "85bf3fa4",
   "metadata": {},
   "outputs": [],
   "source": [
    "def convertir(seconds):\n",
    "    h = int(seconds // 3600)\n",
    "    m = int((seconds % 3600) // 60)\n",
    "    s = int(seconds % 60)\n",
    "    return f\"{h:02d}:{m:02d}:{s:02d}\""
   ]
  },
  {
   "cell_type": "code",
   "execution_count": 20,
   "id": "f74e3706",
   "metadata": {},
   "outputs": [
    {
     "data": {
      "text/plain": [
       "'27:46:40'"
      ]
     },
     "execution_count": 20,
     "metadata": {},
     "output_type": "execute_result"
    }
   ],
   "source": [
    "convertir(100000)"
   ]
  },
  {
   "cell_type": "code",
   "execution_count": 25,
   "id": "5a2f0c92",
   "metadata": {},
   "outputs": [],
   "source": [
    "# Chemin où vous souhaitez enregistrer votre transcription d'entretien en format .txt\n",
    "entretien_transcrit = \"entretien.txt\"\n",
    " \n",
    "# Enregistrement de la transcription\n",
    "with open(entretien_transcrit , 'w', encoding='utf-8') as f:\n",
    "    for segment in result[\"segments\"]:\n",
    "        start_time = convertir(segment['start'])\n",
    "        end_time = convertir(segment['end'])\n",
    "        f.write(f\"{start_time} - {end_time}: {segment['text']}\\n\")"
   ]
  },
  {
   "cell_type": "code",
   "execution_count": 27,
   "id": "2b394a06",
   "metadata": {},
   "outputs": [
    {
     "name": "stdout",
     "output_type": "stream",
     "text": [
      "00:00:00 - 00:00:03:  On les parant qui était là, elle n'est pas qu'on prie cette réalisation.\n",
      "00:00:03 - 00:00:05:  Et très vite, ce sont orientés.\n",
      "00:00:05 - 00:00:07:  Une fois que la maison était en cours, en fait,\n",
      "00:00:07 - 00:00:09:  sur tous les problèmes de qualité de vie.\n",
      "00:00:09 - 00:00:13:  Dans lesquels il y avait le social,\n",
      "00:00:13 - 00:00:17:  la formation, la vie à l'hôpital.\n",
      "00:00:17 - 00:00:18:  La prise en charge, etc.\n",
      "00:00:18 - 00:00:22:  Pas toujours, donc je vous demande de répondre de sa part.\n",
      "00:00:22 - 00:00:24:  Pas toujours avec la corps, d'ailleurs, des médecins.\n",
      "00:00:24 - 00:00:28:  C'est-à-dire que on n'était pas en conflit,\n",
      "00:00:28 - 00:00:29:  mais non non, c'est pas ça du tout.\n",
      "00:00:29 - 00:00:31:  On n'était pas toujours.\n",
      "00:00:31 - 00:00:32:  On connaît ça des plus...\n",
      "00:00:32 - 00:00:34:  C'était en 1990.\n",
      "00:00:34 - 00:00:36:  Et à ce moment-là, la vie d'atrice à Gustavouille-Cier,\n",
      "00:00:36 - 00:00:37:  elle avait une place importante.\n",
      "00:00:37 - 00:00:38:  Oui, oui, déjà.\n",
      "00:00:38 - 00:00:39:  Avec elle.\n",
      "00:00:39 - 00:00:41:  Voilà.\n",
      "00:00:41 - 00:00:43:  Donc voilà.\n",
      "00:00:43 - 00:00:48:  Et à cette même période, même quelques fois, quelques années avant,\n",
      "00:00:48 - 00:00:50:  toutes les associations de parant qui vont se réunir\n",
      "00:00:50 - 00:00:53:  ensuite dans les aspects, qui ont de mine de près,\n",
      "00:00:53 - 00:00:54:  de quoi?\n",
      "00:00:54 - 00:00:57:  Ce sont créatures de ces mêmes projets.\n",
      "00:00:57 - 00:00:59:  C'est-à-dire d'abord premièrement...\n",
      "\n"
     ]
    }
   ],
   "source": [
    "print(open(\"entretien.txt\",\"r\").read())"
   ]
  },
  {
   "cell_type": "markdown",
   "id": "1256fc43",
   "metadata": {},
   "source": [
    "Tester l'erreur \n",
    "\n",
    "- https://github.com/jitsi/jiwer"
   ]
  }
 ],
 "metadata": {
  "kernelspec": {
   "display_name": "Python 3 (ipykernel)",
   "language": "python",
   "name": "python3"
  },
  "language_info": {
   "codemirror_mode": {
    "name": "ipython",
    "version": 3
   },
   "file_extension": ".py",
   "mimetype": "text/x-python",
   "name": "python",
   "nbconvert_exporter": "python",
   "pygments_lexer": "ipython3",
   "version": "3.9.12"
  }
 },
 "nbformat": 4,
 "nbformat_minor": 5
}
